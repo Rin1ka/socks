{
 "cells": [
  {
   "cell_type": "code",
   "execution_count": 45,
   "metadata": {},
   "outputs": [],
   "source": [
    "#  На какую сумму купили и оплатили носков любого вида\n",
    "import pandas as pd\n",
    "orders = pd.read_csv('orders.csv', sep=';')\n",
    "products = pd.read_csv('Products.csv', sep=';')"
   ]
  },
  {
   "cell_type": "code",
   "execution_count": 46,
   "metadata": {},
   "outputs": [],
   "source": [
    "df = pd.DataFrame(pd.merge(orders, products, how='inner', left_on=('ID товара'), right_on=('Product_ID')))"
   ]
  },
  {
   "cell_type": "code",
   "execution_count": 57,
   "metadata": {},
   "outputs": [],
   "source": [
    "df = df[(df['Name'].str.contains('Носки')) & (df['Оплачен'].str.contains('Да'))]"
   ]
  },
  {
   "cell_type": "code",
   "execution_count": 61,
   "metadata": {},
   "outputs": [
    {
     "name": "stderr",
     "output_type": "stream",
     "text": [
      
      "A value is trying to be set on a copy of a slice from a DataFrame.\n",
      "Try using .loc[row_indexer,col_indexer] = value instead\n",
      "\n",
      "See the caveats in the documentation: https://pandas.pydata.org/pandas-docs/stable/user_guide/indexing.html#returning-a-view-versus-a-copy\n",
      "  self._setitem_single_column(ilocs[0], value, pi)\n"
     ]
    }
   ],
   "source": [
    "df.loc[:, 'All_Price'] = df['Количество']*df['Price']"
   ]
  },
  {
   "cell_type": "code",
   "execution_count": 62,
   "metadata": {},
   "outputs": [
    {
     "data": {
      "text/html": [
       "<div>\n",
       "<style scoped>\n",
       "    .dataframe tbody tr th:only-of-type {\n",
       "        vertical-align: middle;\n",
       "    }\n",
       "\n",
       "    .dataframe tbody tr th {\n",
       "        vertical-align: top;\n",
       "    }\n",
       "\n",
       "    .dataframe thead th {\n",
       "        text-align: right;\n",
       "    }\n",
       "</style>\n",
       "<table border=\"1\" class=\"dataframe\">\n",
       "  <thead>\n",
       "    <tr style=\"text-align: right;\">\n",
       "      <th></th>\n",
       "      <th>Дата создания</th>\n",
       "      <th>Order ID</th>\n",
       "      <th>ID Покупателя</th>\n",
       "      <th>Статус</th>\n",
       "      <th>Оплачен</th>\n",
       "      <th>Отменен</th>\n",
       "      <th>Отгружен</th>\n",
       "      <th>ID товара</th>\n",
       "      <th>Количество</th>\n",
       "      <th>Product_ID</th>\n",
       "      <th>Name</th>\n",
       "      <th>Price</th>\n",
       "      <th>CURRENCY</th>\n",
       "      <th>All_Price</th>\n",
       "    </tr>\n",
       "  </thead>\n",
       "  <tbody>\n",
       "    <tr>\n",
       "      <th>2</th>\n",
       "      <td>08.11.2019 08:36:22</td>\n",
       "      <td>3</td>\n",
       "      <td>8</td>\n",
       "      <td>Оплачен, формируется к отправке</td>\n",
       "      <td>Да</td>\n",
       "      <td>Нет</td>\n",
       "      <td>Нет</td>\n",
       "      <td>103</td>\n",
       "      <td>3</td>\n",
       "      <td>103</td>\n",
       "      <td>Носки Подарочные, муж</td>\n",
       "      <td>199</td>\n",
       "      <td>RUR</td>\n",
       "      <td>597</td>\n",
       "    </tr>\n",
       "    <tr>\n",
       "      <th>4</th>\n",
       "      <td>08.11.2019 08:36:20</td>\n",
       "      <td>1</td>\n",
       "      <td>5</td>\n",
       "      <td>Оплачен, формируется к отправке</td>\n",
       "      <td>Да</td>\n",
       "      <td>Нет</td>\n",
       "      <td>Нет</td>\n",
       "      <td>86</td>\n",
       "      <td>1</td>\n",
       "      <td>86</td>\n",
       "      <td>Носки Простые, муж</td>\n",
       "      <td>45</td>\n",
       "      <td>RUR</td>\n",
       "      <td>45</td>\n",
       "    </tr>\n",
       "    <tr>\n",
       "      <th>8</th>\n",
       "      <td>08.11.2019 08:36:22</td>\n",
       "      <td>3</td>\n",
       "      <td>8</td>\n",
       "      <td>Оплачен, формируется к отправке</td>\n",
       "      <td>Да</td>\n",
       "      <td>Нет</td>\n",
       "      <td>Нет</td>\n",
       "      <td>104</td>\n",
       "      <td>3</td>\n",
       "      <td>104</td>\n",
       "      <td>Носки Подарочные, жен</td>\n",
       "      <td>249</td>\n",
       "      <td>RUR</td>\n",
       "      <td>747</td>\n",
       "    </tr>\n",
       "  </tbody>\n",
       "</table>\n",
       "</div>"
      ],
      "text/plain": [
       "         Дата создания  Order ID  ID Покупателя  \\\n",
       "2  08.11.2019 08:36:22         3              8   \n",
       "4  08.11.2019 08:36:20         1              5   \n",
       "8  08.11.2019 08:36:22         3              8   \n",
       "\n",
       "                            Статус Оплачен Отменен Отгружен  ID товара  \\\n",
       "2  Оплачен, формируется к отправке      Да     Нет      Нет        103   \n",
       "4  Оплачен, формируется к отправке      Да     Нет      Нет         86   \n",
       "8  Оплачен, формируется к отправке      Да     Нет      Нет        104   \n",
       "\n",
       "   Количество  Product_ID                   Name  Price CURRENCY  All_Price  \n",
       "2           3         103  Носки Подарочные, муж    199      RUR        597  \n",
       "4           1          86     Носки Простые, муж     45      RUR         45  \n",
       "8           3         104  Носки Подарочные, жен    249      RUR        747  "
      ]
     },
     "execution_count": 62,
     "metadata": {},
     "output_type": "execute_result"
    }
   ],
   "source": [
    "df"
   ]
  },
  {
   "cell_type": "code",
   "execution_count": 63,
   "metadata": {},
   "outputs": [
    {
     "data": {
      "text/plain": [
       "1389"
      ]
     },
     "execution_count": 63,
     "metadata": {},
     "output_type": "execute_result"
    }
   ],
   "source": [
    "df['All_Price'].sum()"
   ]
  }
 ],
 "metadata": {
  "interpreter": {
   "hash": "6e57e94c0aa54e9aa2b87a56346bbc93ad79302e533a410bfad18d7ab3139cee"
  },
  "kernelspec": {
   "display_name": "Python 3.7.9 64-bit",
   "language": "python",
   "name": "python3"
  },
  "language_info": {
   "codemirror_mode": {
    "name": "ipython",
    "version": 3
   },
   "file_extension": ".py",
   "mimetype": "text/x-python",
   "name": "python",
   "nbconvert_exporter": "python",
   "pygments_lexer": "ipython3",
   "version": "3.7.9"
  },
  "orig_nbformat": 4
 },
 "nbformat": 4,
 "nbformat_minor": 2
}
